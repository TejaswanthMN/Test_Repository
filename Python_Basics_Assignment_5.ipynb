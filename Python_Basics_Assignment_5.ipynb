{
 "cells": [
  {
   "cell_type": "markdown",
   "id": "c51fbace-b77d-48cf-8488-22edade2bf93",
   "metadata": {},
   "source": [
    "#### Python_Basics_Assignment_5"
   ]
  },
  {
   "cell_type": "markdown",
   "id": "a5855d8b-9f37-4978-8dfe-ee96a895ef95",
   "metadata": {},
   "source": [
    "1. What does an empty dictionary's code look like?"
   ]
  },
  {
   "cell_type": "markdown",
   "id": "8e3fd8bc-8d38-44c4-b399-a9066851873d",
   "metadata": {},
   "source": [
    "The empty dictionary code looks like {}."
   ]
  },
  {
   "cell_type": "markdown",
   "id": "c793eb1e-07f0-464e-ba29-419b0dff3936",
   "metadata": {},
   "source": [
    "2. What is the value of a dictionary value with the key 'foo' and the value 42?"
   ]
  },
  {
   "cell_type": "markdown",
   "id": "2160e8d6-299a-4739-8b6a-2e7099ae5352",
   "metadata": {},
   "source": [
    "The value of a dictionary with key 'foo' and value 42 is {'foo': 42}."
   ]
  },
  {
   "cell_type": "markdown",
   "id": "f84a6f02-f859-48fc-ac92-c1d70a9f7639",
   "metadata": {},
   "source": [
    "3. What is the most significant distinction between a dictionary and a list?"
   ]
  },
  {
   "cell_type": "markdown",
   "id": "b1d33c79-d771-4c96-a612-ef12e61ed94e",
   "metadata": {},
   "source": [
    "Dictionary is a collection of key value pair whereas list is a collection of only values. Dictionary values can be accessed by previously initialized keys whereas lists can be accessed by inbuilt indexes. The items stored in a dictionary are unordered, while the items in a list are ordered as it should be accessed by inbuilt indexes."
   ]
  },
  {
   "cell_type": "markdown",
   "id": "2b606c59-a527-42c6-a72c-e4fafac7abf4",
   "metadata": {},
   "source": [
    "4. What happens if you try to access spam['foo'] if spam is {'bar': 100}?"
   ]
  },
  {
   "cell_type": "markdown",
   "id": "71542946-0e82-4cd9-81b3-725afda6f39a",
   "metadata": {},
   "source": [
    "We will get a key error 'foo' as there is no element in the dictionary with key 'foo'."
   ]
  },
  {
   "cell_type": "markdown",
   "id": "984d1255-5a4f-4a5a-a2ce-828da422fb5e",
   "metadata": {},
   "source": [
    "5. If a dictionary is stored in spam, what is the difference between the expressions 'cat' in spam and 'cat' in spam.keys()?"
   ]
  },
  {
   "cell_type": "markdown",
   "id": "e7b22a50-34d8-4310-9aaf-bf8a7fb1d8fd",
   "metadata": {},
   "source": [
    "There is no difference. The in operator checks whether a value exists as a key in the dictionary."
   ]
  },
  {
   "cell_type": "code",
   "execution_count": 3,
   "id": "96b39bc1-c535-4761-a5e6-2eba9f2808bc",
   "metadata": {},
   "outputs": [
    {
     "data": {
      "text/plain": [
       "True"
      ]
     },
     "execution_count": 3,
     "metadata": {},
     "output_type": "execute_result"
    }
   ],
   "source": [
    "spam = {'cat': 40}\n",
    "'cat' in spam.keys()"
   ]
  },
  {
   "cell_type": "code",
   "execution_count": 4,
   "id": "4a08f6d2-17bf-49bc-83bd-cdb109ad284f",
   "metadata": {},
   "outputs": [
    {
     "data": {
      "text/plain": [
       "True"
      ]
     },
     "execution_count": 4,
     "metadata": {},
     "output_type": "execute_result"
    }
   ],
   "source": [
    "spam = {'cat': 40}\n",
    "'cat' in spam"
   ]
  },
  {
   "cell_type": "markdown",
   "id": "6af4c70f-23f9-4f77-b591-c0fe4a72b6c3",
   "metadata": {},
   "source": [
    "6. If a dictionary is stored in spam, what is the difference between the expressions 'cat' in spam and 'cat' in spam.values()?"
   ]
  },
  {
   "cell_type": "markdown",
   "id": "ca549bbc-9121-4879-b5e4-a6730c8c3bc8",
   "metadata": {},
   "source": [
    "The 'cat' in spam checks whether there is a 'cat' key in the dictionary, while 'cat' in spam.values() checks whether there is a value 'cat' for one of the keys in spam."
   ]
  },
  {
   "cell_type": "code",
   "execution_count": 5,
   "id": "48ab3bb6-a824-48c2-b466-9bec1aa99400",
   "metadata": {},
   "outputs": [
    {
     "data": {
      "text/plain": [
       "True"
      ]
     },
     "execution_count": 5,
     "metadata": {},
     "output_type": "execute_result"
    }
   ],
   "source": [
    "spam = {'cat': 40}\n",
    "'cat' in spam"
   ]
  },
  {
   "cell_type": "code",
   "execution_count": 6,
   "id": "f5c142c4-b69b-4b18-a398-2d1d69873f8e",
   "metadata": {},
   "outputs": [
    {
     "data": {
      "text/plain": [
       "False"
      ]
     },
     "execution_count": 6,
     "metadata": {},
     "output_type": "execute_result"
    }
   ],
   "source": [
    "spam = {'cat': 40}\n",
    "'cat' in spam.values()"
   ]
  },
  {
   "cell_type": "markdown",
   "id": "4f6b5c02-9051-4830-b6f2-f609b227026e",
   "metadata": {},
   "source": [
    "7. What is a shortcut for the following code?\n",
    "<br>if 'color' not in spam:\n",
    "<br>spam['color'] = 'black'"
   ]
  },
  {
   "cell_type": "markdown",
   "id": "139d0bc1-2e43-49ae-9e30-ac6a5982479f",
   "metadata": {},
   "source": [
    "spam.setdefault('color', 'black') is the shortcut for the above code. Python Dictionary setdefault() returns the value of a key (if the key is in dictionary). Else, it inserts a key with the default value to the dictionary."
   ]
  },
  {
   "cell_type": "markdown",
   "id": "ed181c8d-bc70-4067-a600-e6a54f9dfcce",
   "metadata": {},
   "source": [
    "8. How do you \"pretty print\" dictionary values using which module and function?"
   ]
  },
  {
   "cell_type": "markdown",
   "id": "74d6b0e9-1a4d-4d52-9019-25d483b95a95",
   "metadata": {},
   "source": [
    "The module used is the pprint module within which we have the pprint function of the same name. \n",
    "\n",
    "pprint.pprint()"
   ]
  }
 ],
 "metadata": {
  "kernelspec": {
   "display_name": "Python 3 (ipykernel)",
   "language": "python",
   "name": "python3"
  },
  "language_info": {
   "codemirror_mode": {
    "name": "ipython",
    "version": 3
   },
   "file_extension": ".py",
   "mimetype": "text/x-python",
   "name": "python",
   "nbconvert_exporter": "python",
   "pygments_lexer": "ipython3",
   "version": "3.10.6"
  }
 },
 "nbformat": 4,
 "nbformat_minor": 5
}

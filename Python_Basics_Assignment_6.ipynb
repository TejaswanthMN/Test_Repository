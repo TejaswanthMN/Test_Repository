{
 "cells": [
  {
   "cell_type": "markdown",
   "id": "e6f93eaf-7855-4417-86ef-d6451f5907e3",
   "metadata": {},
   "source": [
    "### Python_Basics_Assignment_6"
   ]
  },
  {
   "cell_type": "markdown",
   "id": "45d7f83a-a1b8-4f88-a513-4296bbb8006b",
   "metadata": {},
   "source": [
    "#### 1. What are escape characters, and how do you use them?"
   ]
  },
  {
   "cell_type": "markdown",
   "id": "4830102d-9112-4605-93cc-e5c53d829c23",
   "metadata": {},
   "source": [
    "Escape characters or sequences are illegal characters for Python and never get printed as part of the output. When backslash is used in Python programming, it allows the program to escape the next characters."
   ]
  },
  {
   "cell_type": "markdown",
   "id": "7a964ae6-fb05-4326-8e11-083f2e9ba6ab",
   "metadata": {},
   "source": [
    "#### 2. What do the escape characters n and t stand for?"
   ]
  },
  {
   "cell_type": "markdown",
   "id": "056fa2aa-b3e1-4ba4-8669-653ff309a11a",
   "metadata": {},
   "source": [
    "'n' is new line character helps to insert a new line before or after a string. 't' is the escape sequence tab is utilized to put a horizontal tab between words."
   ]
  },
  {
   "cell_type": "markdown",
   "id": "072ea411-3550-4163-ad9f-248d432e6664",
   "metadata": {},
   "source": [
    "#### 3. What is the way to include backslash characters in a string?"
   ]
  },
  {
   "cell_type": "markdown",
   "id": "2daec469-39bb-47f1-9aa5-a6adec9397cd",
   "metadata": {},
   "source": [
    "To include a backslash character itself, need two backslashes or use the @ verbatim string"
   ]
  },
  {
   "cell_type": "markdown",
   "id": "5f144c23-fb27-47e1-818b-ff14fb2d818c",
   "metadata": {},
   "source": [
    "#### 4. The string &quot;Howl&#39;s Moving Castle&quot; is a correct value. Why isn&#39;t the single quote character in the word Howl&#39;s not escaped a problem?"
   ]
  },
  {
   "cell_type": "markdown",
   "id": "0c823260-a2e9-4b15-b7bc-25f4328da94b",
   "metadata": {},
   "source": [
    "The single quote in Howl's is fine because double quotes is used to mark the beginning and end of the string."
   ]
  },
  {
   "cell_type": "markdown",
   "id": "bfb61c9b-e373-4a4e-9bb2-24468ff8f86c",
   "metadata": {},
   "source": [
    "#### 5. How do you write a string of newlines if you don&#39;t want to use the n character?"
   ]
  },
  {
   "cell_type": "markdown",
   "id": "82a5ae44-2952-4903-b24d-e484e40cd1e7",
   "metadata": {},
   "source": [
    "Multiline strings allows to use newlines in strings without the \\n escape character."
   ]
  },
  {
   "cell_type": "markdown",
   "id": "cb9e32d9-220e-41da-bf59-e7bebd970c40",
   "metadata": {},
   "source": [
    "#### 6. What are the values of the given expressions?\n",
    "&#39;Hello, world!&#39;[1]\n",
    "&#39;Hello, world!&#39;[0:5]\n",
    "&#39;Hello, world!&#39;[:5]\n",
    "&#39;Hello, world!&#39;[3:]"
   ]
  },
  {
   "cell_type": "markdown",
   "id": "a9b1f8b9-1e31-4bd4-aa07-4fa0b4d42dba",
   "metadata": {},
   "source": [
    "'Hello, world!'[1] gives 'e' as output\n",
    "\n",
    "'Hello, world!'[0:5] gives 'Hello' as output\n",
    "\n",
    "'Hello, world!'[:5] gives 'Hello' as output\n",
    "\n",
    "'Hello, world!'[3:] gives 'lo, world!' as output"
   ]
  },
  {
   "cell_type": "markdown",
   "id": "08b76c3a-3b17-4a25-b304-17ad8e54112b",
   "metadata": {},
   "source": [
    "#### 7. What are the values of the following expressions?\n",
    "&#39;Hello&#39;.upper()\n",
    "&#39;Hello&#39;.upper().isupper()\n",
    "&#39;Hello&#39;.upper().lower()"
   ]
  },
  {
   "cell_type": "markdown",
   "id": "80530bcd-1da5-4db4-af56-a7551e88ebf8",
   "metadata": {},
   "source": [
    "'Hello'.upper() gives 'HELLO' as output\n",
    "\n",
    "'Hello'.upper().isupper() gives True as output\n",
    "\n",
    "'Hello'.upper().lower() gives 'hello' as output"
   ]
  },
  {
   "cell_type": "markdown",
   "id": "1ad6905b-456e-43d1-9de6-0213f603f81a",
   "metadata": {},
   "source": [
    "#### 8. What are the values of the following expressions?\n",
    "&#39;Remember, remember, the fifth of July.&#39;.split()\n",
    "&#39;-&#39;.join(&#39;There can only one.&#39;.split())"
   ]
  },
  {
   "cell_type": "markdown",
   "id": "ddec02eb-0249-4899-9d0f-a64d1e8faabc",
   "metadata": {},
   "source": [
    "'Remember, remember, the fifth of July.'.split() gives ['Remember,', 'remember,', 'the', 'fifth', 'of', 'July.'] as output\n",
    "\n",
    "'-'.join('There can only one.'.split()) gives 'There-can-only-one.' as output"
   ]
  },
  {
   "cell_type": "markdown",
   "id": "54b1937f-a73b-4f16-be42-f4e23cba7d16",
   "metadata": {},
   "source": [
    "#### 9. What are the methods for right-justifying, left-justifying, and centering a string?"
   ]
  },
  {
   "cell_type": "markdown",
   "id": "f4445aa3-5766-4037-a3fa-5b72284385ba",
   "metadata": {},
   "source": [
    ".rjust(n) .ljust(n) .center(n) methods are for right-justifying, left-justifying and centering a string. "
   ]
  },
  {
   "cell_type": "markdown",
   "id": "55a7c8a3-2f73-4bd1-b372-02834cadc780",
   "metadata": {},
   "source": [
    "#### 10. What is the best way to remove whitespace characters from the start or end?"
   ]
  },
  {
   "cell_type": "markdown",
   "id": "8d0d00cb-a42b-486a-b6aa-1907ebca2533",
   "metadata": {},
   "source": [
    "strip() method is used to remove whitespace characters both at the start or end of the string. lstrip() method is used to remove whitespace characters at starting of the string. rstrip() method is used to remove whitespace characters at ending of the string"
   ]
  }
 ],
 "metadata": {
  "kernelspec": {
   "display_name": "Python 3 (ipykernel)",
   "language": "python",
   "name": "python3"
  },
  "language_info": {
   "codemirror_mode": {
    "name": "ipython",
    "version": 3
   },
   "file_extension": ".py",
   "mimetype": "text/x-python",
   "name": "python",
   "nbconvert_exporter": "python",
   "pygments_lexer": "ipython3",
   "version": "3.10.6"
  }
 },
 "nbformat": 4,
 "nbformat_minor": 5
}

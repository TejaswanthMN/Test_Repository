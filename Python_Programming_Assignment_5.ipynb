{
 "cells": [
  {
   "cell_type": "markdown",
   "id": "4226ca31-10fb-489e-8985-14fb131fbe33",
   "metadata": {},
   "source": [
    "### Python_Programming_Assignment_5"
   ]
  },
  {
   "cell_type": "markdown",
   "id": "c175c3a4-c323-47a9-9cc2-258c02954588",
   "metadata": {},
   "source": [
    "#### 1. Write a Python Program to Find LCM?"
   ]
  },
  {
   "cell_type": "code",
   "execution_count": 1,
   "id": "ebd31ee6-8db5-4ea8-8014-3ef0e2f3ccf7",
   "metadata": {},
   "outputs": [
    {
     "data": {
      "text/plain": [
       "60"
      ]
     },
     "execution_count": 1,
     "metadata": {},
     "output_type": "execute_result"
    }
   ],
   "source": [
    "def lcm(a,b):\n",
    "    g = max(a,b)\n",
    "    s = min(a,b)\n",
    "    for i in range(g, (a*b)+1, g):\n",
    "        if i%s == 0:\n",
    "            return i\n",
    "\n",
    "lcm(12,30)"
   ]
  },
  {
   "cell_type": "markdown",
   "id": "b352bf83-bb49-4029-ba90-30d52573d790",
   "metadata": {},
   "source": [
    "#### 2. Write a Python Program to Find HCF?"
   ]
  },
  {
   "cell_type": "code",
   "execution_count": 2,
   "id": "767a3d49-f4f2-483a-b2f8-7ffec6556d4a",
   "metadata": {},
   "outputs": [
    {
     "data": {
      "text/plain": [
       "15"
      ]
     },
     "execution_count": 2,
     "metadata": {},
     "output_type": "execute_result"
    }
   ],
   "source": [
    "def hcf(a,b):\n",
    "    for i in range((min(a,b)+1),2,-1):\n",
    "        if a%i == 0 and b%i == 0:\n",
    "            return i\n",
    "\n",
    "hcf(30,75)"
   ]
  },
  {
   "cell_type": "markdown",
   "id": "f57df67c-9014-407a-8c3e-c03659931050",
   "metadata": {},
   "source": [
    "#### 3. Write a Python Program to Convert Decimal to Binary, Octal and Hexadecimal?"
   ]
  },
  {
   "cell_type": "code",
   "execution_count": 3,
   "id": "37ad305d-246b-4033-b556-9de06db8fc74",
   "metadata": {},
   "outputs": [
    {
     "name": "stdout",
     "output_type": "stream",
     "text": [
      "binary of 5 is 0b101\n",
      "octal of 5 is 0o5\n",
      "hexadecimal of 5 is 0x5\n"
     ]
    }
   ],
   "source": [
    "a = 5\n",
    "print(f\"binary of 5 is {bin(a)}\")\n",
    "print(f\"octal of 5 is {oct(a)}\")\n",
    "print(f\"hexadecimal of 5 is {hex(a)}\")"
   ]
  },
  {
   "cell_type": "markdown",
   "id": "41564edf-0ece-42e3-ad64-b8f791621211",
   "metadata": {},
   "source": [
    "#### 4. Write a Python Program To Find ASCII value of a character?"
   ]
  },
  {
   "cell_type": "code",
   "execution_count": 4,
   "id": "285d485e-acf9-42a7-bdc7-a58ee39a9e3d",
   "metadata": {},
   "outputs": [
    {
     "name": "stdout",
     "output_type": "stream",
     "text": [
      "ASCII value for the character a is 97\n"
     ]
    }
   ],
   "source": [
    "character = 'a'\n",
    "print(f\"ASCII value for the character {character} is {ord(character)}\")"
   ]
  },
  {
   "cell_type": "markdown",
   "id": "d502547f-1619-4677-8680-1e179fc293ba",
   "metadata": {},
   "source": [
    "#### 5. Write a Python Program to Make a Simple Calculator with 4 basic mathematical operations?"
   ]
  },
  {
   "cell_type": "code",
   "execution_count": 5,
   "id": "0d3b352d-ff8b-4b54-9b51-1fa4a1d6f267",
   "metadata": {},
   "outputs": [
    {
     "name": "stdout",
     "output_type": "stream",
     "text": [
      "Please select operation -\n",
      "1. Add\n",
      "2. Subtract\n",
      "3. Multiply\n",
      "4. Divide\n",
      "\n"
     ]
    },
    {
     "name": "stdin",
     "output_type": "stream",
     "text": [
      "Select operations form 1, 2, 3, 4 : 1\n",
      "Enter first number:  500\n",
      "Enter second number:  1000\n"
     ]
    },
    {
     "name": "stdout",
     "output_type": "stream",
     "text": [
      "500 + 1000 = 1500\n"
     ]
    }
   ],
   "source": [
    "def add(num1, num2):\n",
    "    return num1 + num2\n",
    "  \n",
    "def subtract(num1, num2):\n",
    "    return num1 - num2\n",
    "  \n",
    "def multiply(num1, num2):\n",
    "    return num1 * num2\n",
    "  \n",
    "def divide(num1, num2):\n",
    "    return num1 / num2\n",
    "  \n",
    "print(\"Please select operation -\\n\" \\\n",
    "        \"1. Add\\n\" \\\n",
    "        \"2. Subtract\\n\" \\\n",
    "        \"3. Multiply\\n\" \\\n",
    "        \"4. Divide\\n\")\n",
    "  \n",
    "\n",
    "select = int(input(\"Select operations form 1, 2, 3, 4 :\"))\n",
    "  \n",
    "number_1 = int(input(\"Enter first number: \"))\n",
    "number_2 = int(input(\"Enter second number: \"))\n",
    "  \n",
    "if select == 1:\n",
    "    print(number_1, \"+\", number_2, \"=\",\n",
    "                    add(number_1, number_2))\n",
    "  \n",
    "elif select == 2:\n",
    "    print(number_1, \"-\", number_2, \"=\",\n",
    "                    subtract(number_1, number_2))\n",
    "  \n",
    "elif select == 3:\n",
    "    print(number_1, \"*\", number_2, \"=\",\n",
    "                    multiply(number_1, number_2))\n",
    "  \n",
    "elif select == 4:\n",
    "    print(number_1, \"/\", number_2, \"=\",\n",
    "                    divide(number_1, number_2))\n",
    "else:\n",
    "    print(\"Invalid input\")"
   ]
  }
 ],
 "metadata": {
  "kernelspec": {
   "display_name": "Python 3 (ipykernel)",
   "language": "python",
   "name": "python3"
  },
  "language_info": {
   "codemirror_mode": {
    "name": "ipython",
    "version": 3
   },
   "file_extension": ".py",
   "mimetype": "text/x-python",
   "name": "python",
   "nbconvert_exporter": "python",
   "pygments_lexer": "ipython3",
   "version": "3.10.6"
  }
 },
 "nbformat": 4,
 "nbformat_minor": 5
}

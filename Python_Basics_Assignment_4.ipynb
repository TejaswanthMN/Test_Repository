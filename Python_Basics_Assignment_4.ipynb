{
 "cells": [
  {
   "cell_type": "markdown",
   "id": "74706238-afd9-4dd3-95db-c1572c38d3e4",
   "metadata": {},
   "source": [
    "### Python_Basics_Assignment_4"
   ]
  },
  {
   "cell_type": "markdown",
   "id": "81b0b7f6-4245-47d8-9c04-14ed5d7f2067",
   "metadata": {},
   "source": [
    "#### 1. What exactly is []?"
   ]
  },
  {
   "cell_type": "markdown",
   "id": "73c6f085-d259-445e-9086-d66b5a2249bb",
   "metadata": {},
   "source": [
    "In python, '[]' represents a empty list. This serves as a staritng point for creating lists that can be populated with elements later or used in specific operations where an empty collection is required."
   ]
  },
  {
   "cell_type": "markdown",
   "id": "c1222d57-c305-484d-8cd1-a560ff4f205e",
   "metadata": {},
   "source": [
    "#### 2. In a list of values stored in a variable called spam, how would you assign the value 'hello' as the third value? (Assume [2, 4, 6, 8, 10] are in spam.) Let's pretend the spam includes the list ['a', 'b', 'c', 'd'] for the next three queries."
   ]
  },
  {
   "cell_type": "markdown",
   "id": "dd5dffd6-7234-4c61-84dd-b878b3b3cdc8",
   "metadata": {},
   "source": [
    "There are multiple ways to assign the value 'hello' as the third value in the list spam storing [2,4,6,8,10]. Third value is second index.\n",
    "First method is assigning \n",
    "\n",
    "`spam[2] = 'hello'`\n",
    "\n",
    "Second method id by using insert method. We can use this method to assign a value at a certain index. The explaination is as follows.\n",
    "\n",
    "`spam.insert(2,'hello')`\n",
    "\n",
    "The above code will insert 'hello' at the index 2.\n"
   ]
  },
  {
   "cell_type": "markdown",
   "id": "957738a8-34c1-42e0-818f-f1d724386f79",
   "metadata": {},
   "source": [
    "#### 3. What is the value of spam[int(int('3' * 2) / 11)]?"
   ]
  },
  {
   "cell_type": "markdown",
   "id": "171d9ecc-df3a-4b9b-910b-5496bfa9c5fb",
   "metadata": {},
   "source": [
    "As the value of spam = ['a','b','c','d'] from the above question, and from this question `int(int('3'*2)/11)` gives an output of 3 and spam[int(int('3' * 2) / 11)] gives third index i.e., 'd' as the output."
   ]
  },
  {
   "cell_type": "markdown",
   "id": "ff91cceb-87a8-40fc-8710-7a9e239ffc33",
   "metadata": {},
   "source": [
    "#### 4. What is the value of spam[-1]?"
   ]
  },
  {
   "cell_type": "markdown",
   "id": "5ece644c-c747-4443-b41a-c03fa4c44a75",
   "metadata": {},
   "source": [
    "spam[-1] gives the last element in the list spam. -1 index refers to the last element of the collection."
   ]
  },
  {
   "cell_type": "markdown",
   "id": "c560e002-c163-414d-b2c0-2c9dd221290b",
   "metadata": {},
   "source": [
    "#### 5. What is the value of spam[:2]? Let's pretend bacon has the list [3.14, 'cat,' 11, 'cat,' True] for the next three questions."
   ]
  },
  {
   "cell_type": "markdown",
   "id": "20a0c587-1013-4edd-b3a3-48c21836545d",
   "metadata": {},
   "source": [
    "spam[:2] gives the first 2 elements of the list. This method is slicing and first digit before ':' is defaulted to starting index of 0 and the second digit, i.e, after the ':' is the stopping or ending index. This ending index is excluded so we will get values only before that index. So the output of the above code is ['a','b']"
   ]
  },
  {
   "cell_type": "markdown",
   "id": "de717f23-773a-42ec-b411-1378b8fd519e",
   "metadata": {},
   "source": [
    "#### 6. What is the value of bacon.index('cat')?"
   ]
  },
  {
   "cell_type": "markdown",
   "id": "f3008c85-37d5-4e01-bc52-ba067bbb1f83",
   "metadata": {},
   "source": [
    "As specified in the above question, bacon is a list [3.14, 'cat,' 11, 'cat,' True] . .index() function gives the position at the first occurrence of the specified value. So the value of bacon.index('cat') will be 1."
   ]
  },
  {
   "cell_type": "markdown",
   "id": "ffc0110d-3f55-4725-993e-5cc16c83b64a",
   "metadata": {},
   "source": [
    "#### 7. How does bacon.append(99) change the look of the list value in bacon?"
   ]
  },
  {
   "cell_type": "markdown",
   "id": "226163a1-60ed-459a-89bc-55b42f53a3e4",
   "metadata": {},
   "source": [
    ".append() function adds the element to the end of the list. So bacon.append(99) will add the number 99 to the end of the list bacon. Updated list will be [3.14, 'cat', 11, 'cat', True, 99]."
   ]
  },
  {
   "cell_type": "markdown",
   "id": "e23761a0-4dad-4b2c-a4ca-5bb8ca5acf7f",
   "metadata": {},
   "source": [
    "#### 8. How does bacon.remove('cat') change the look of the list in bacon?"
   ]
  },
  {
   "cell_type": "markdown",
   "id": "7b41c0cb-f7d8-4452-8035-381b783e9cb6",
   "metadata": {},
   "source": [
    "The remove() method removes the first occurrence of the element with the specified value. So bacon.remove('cat') removes the first occurance of the 'cat' and the updated list will be [3.14, 11, 'cat', True]."
   ]
  },
  {
   "cell_type": "markdown",
   "id": "618b673c-1d80-4c0a-ab3e-a8a1317728f6",
   "metadata": {},
   "source": [
    "#### 9. What are the list concatenation and list replication operators?"
   ]
  },
  {
   "cell_type": "markdown",
   "id": "d71cf290-16ea-4a28-9eae-7eb4a9eaf06f",
   "metadata": {},
   "source": [
    "List Concatenation:\n",
    "\n",
    "Concatenation is the process of joining the two lists. There are multiple ways to do this. One such method is using '+' operator. \n",
    "\n",
    "`l1 = [1,2,3]`\n",
    "\n",
    "`l2 = [4,5,6]`\n",
    "\n",
    "`l1+l2` gives [1,2,3,4,5,6]\n",
    "\n",
    "List Replication:\n",
    "\n",
    "The replication operator * repeats a list a given number of times. \n",
    "\n",
    "`l1*3` gives `[1, 2, 3, 1, 2, 3, 1, 2, 3]` as output."
   ]
  },
  {
   "cell_type": "markdown",
   "id": "d12ca6d3-cbc9-49b1-973f-4f0b97ec1e63",
   "metadata": {},
   "source": [
    "#### 10. What is difference between the list methods append() and insert()?"
   ]
  },
  {
   "cell_type": "markdown",
   "id": "3b9e6c92-7d03-42d5-9914-afef465518ea",
   "metadata": {},
   "source": [
    ". append() adds an item to the end of a list, but . insert() inserts an item in a specified position in the list."
   ]
  },
  {
   "cell_type": "markdown",
   "id": "4c7c39b6-c14c-4ad5-93f4-072532236132",
   "metadata": {},
   "source": [
    "#### 11. What are the two methods for removing items from a list?"
   ]
  },
  {
   "cell_type": "markdown",
   "id": "7c5d4493-271a-4731-8195-ca91811f5921",
   "metadata": {},
   "source": [
    ".remove() removes the very first given element matching from the list. The pop() method removes an element from the list based on the index given and removes the last element if index is not specified. The clear() method will remove all the elements present in the list."
   ]
  },
  {
   "cell_type": "markdown",
   "id": "f18c50e5-5b5f-4d35-95b5-801aa6db959c",
   "metadata": {},
   "source": [
    "#### 12. Describe how list values and string values are identical."
   ]
  },
  {
   "cell_type": "markdown",
   "id": "4e115ebe-f27d-400e-9a2c-c7ebe1982c2e",
   "metadata": {},
   "source": [
    "The similarity between Lists and Strings in Python is that both are sequences. Both can be accessed using indexes."
   ]
  },
  {
   "cell_type": "markdown",
   "id": "79469117-ca19-4768-8d79-7727abbaaaf5",
   "metadata": {},
   "source": [
    "#### 13. What's the difference between tuples and lists?"
   ]
  },
  {
   "cell_type": "markdown",
   "id": "cc38f2e8-2ecb-421d-864d-7eaf8b371072",
   "metadata": {},
   "source": [
    "The difference between tuples and lists is that tuples are immutable as opposed to lists which are mutable. Therefore, it is possible to change a list but not a tuple."
   ]
  },
  {
   "cell_type": "markdown",
   "id": "71383ac1-8386-4b30-ae89-cf1e6f3dad10",
   "metadata": {},
   "source": [
    "#### 14. How do you type a tuple value that only contains the integer 42?"
   ]
  },
  {
   "cell_type": "markdown",
   "id": "630026ff-e761-47b1-a8bc-2224af03d67d",
   "metadata": {},
   "source": [
    "We type a tuple value that only contains the integer 42 as (42,). Trailing comma is mandatory and without it 42 will be treated as a ineger."
   ]
  },
  {
   "cell_type": "markdown",
   "id": "990485c8-2952-415f-950c-5a35281246ca",
   "metadata": {},
   "source": [
    "#### 15. How do you get a list value's tuple form? How do you get a tuple value's list form?"
   ]
  },
  {
   "cell_type": "markdown",
   "id": "087473b1-0075-4a87-a54b-fe7368fbb358",
   "metadata": {},
   "source": [
    "We can use `list()` method to convert a tuple to list and `tuple()` method to convert a list to tuple."
   ]
  },
  {
   "cell_type": "markdown",
   "id": "c495f9c1-f9f7-4e9f-94ef-238e5cc7992b",
   "metadata": {},
   "source": [
    "#### 16. Variables that \"contain\" list values are not necessarily lists themselves. Instead, what do they contain?"
   ]
  },
  {
   "cell_type": "markdown",
   "id": "fd738579-e0d4-4571-b575-57d12e5e9ed0",
   "metadata": {},
   "source": [
    "Variables will contain references to list values rather than list values themselves."
   ]
  },
  {
   "cell_type": "markdown",
   "id": "b14d23a5-619a-499c-a9ae-27ef707ebdcc",
   "metadata": {},
   "source": [
    "#### 17. How do you distinguish between copy.copy() and copy.deepcopy()?"
   ]
  },
  {
   "cell_type": "markdown",
   "id": "612be2aa-280c-4f59-b046-9a7ed211a6de",
   "metadata": {},
   "source": [
    "The copy.copy() function will do a shallow copy of a list, while the copy.deepcopy() function will do a deep copy of a list. copy.copy() create reference to original object. If you change copied object it will change the original object. copy.deepcopy() creates new object and does real copying of original object to new one."
   ]
  },
  {
   "cell_type": "code",
   "execution_count": null,
   "id": "c5966981-b0ec-4cd5-9145-0a6fca827a22",
   "metadata": {},
   "outputs": [],
   "source": []
  }
 ],
 "metadata": {
  "kernelspec": {
   "display_name": "Python 3 (ipykernel)",
   "language": "python",
   "name": "python3"
  },
  "language_info": {
   "codemirror_mode": {
    "name": "ipython",
    "version": 3
   },
   "file_extension": ".py",
   "mimetype": "text/x-python",
   "name": "python",
   "nbconvert_exporter": "python",
   "pygments_lexer": "ipython3",
   "version": "3.10.6"
  }
 },
 "nbformat": 4,
 "nbformat_minor": 5
}
